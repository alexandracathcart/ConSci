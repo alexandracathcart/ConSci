{
 "cells": [
  {
   "cell_type": "code",
   "execution_count": 1,
   "metadata": {},
   "outputs": [],
   "source": [
    "import pandas as pd\n",
    "import sqlite3 \n",
    "from time import time\n",
    "import warnings\n",
    "warnings.filterwarnings('ignore')"
   ]
  },
  {
   "cell_type": "code",
   "execution_count": 2,
   "metadata": {},
   "outputs": [],
   "source": [
    "prices = pd.read_csv(\"prices.csv\")\n",
    "funds = pd.read_csv(\"funds.csv\")\n",
    "daily = pd.read_csv(\"daily.csv\")\n",
    "assets = pd.read_csv(\"asset_info.csv\")"
   ]
  },
  {
   "cell_type": "code",
   "execution_count": 3,
   "metadata": {},
   "outputs": [
    {
     "data": {
      "text/plain": [
       "((12055241, 8), (133240, 109), (8352196, 9), (6297, 24))"
      ]
     },
     "execution_count": 3,
     "metadata": {},
     "output_type": "execute_result"
    }
   ],
   "source": [
    "prices.shape, funds.shape, daily.shape, assets.shape"
   ]
  },
  {
   "cell_type": "code",
   "execution_count": 4,
   "metadata": {},
   "outputs": [],
   "source": [
    "connS = sqlite3.connect('finance.db') # connect() function creates connection object that represents database. Creates a new database if it doesn't exist\n",
    "cursor = connS.cursor() # create a Cursor object by calling the cursor() method of the Connection object"
   ]
  },
  {
   "cell_type": "code",
   "execution_count": null,
   "metadata": {},
   "outputs": [],
   "source": [
    "t = time()\n",
    "prices.to_sql('prices', connS, if_exists='replace', index=False)\n",
    "funds.to_sql('funds', connS, if_exists='replace', index=False)\n",
    "daily.to_sql('daily', connS, if_exists='replace', index=False)\n",
    "assets.to_sql('assets', connS, if_exists='replace', index=False)\n",
    "time() - t #in seconds"
   ]
  },
  {
   "cell_type": "code",
   "execution_count": null,
   "metadata": {},
   "outputs": [],
   "source": [
    "cursor.execute('''SELECT *\n",
    "FROM assets\n",
    "WHERE ticker='AAB'\n",
    "''')\n",
    "query = cursor.fetchall()\n",
    "query"
   ]
  },
  {
   "cell_type": "code",
   "execution_count": null,
   "metadata": {},
   "outputs": [],
   "source": []
  }
 ],
 "metadata": {
  "kernelspec": {
   "display_name": "Python 3",
   "language": "python",
   "name": "python3"
  },
  "language_info": {
   "codemirror_mode": {
    "name": "ipython",
    "version": 3
   },
   "file_extension": ".py",
   "mimetype": "text/x-python",
   "name": "python",
   "nbconvert_exporter": "python",
   "pygments_lexer": "ipython3",
   "version": "3.8.8"
  }
 },
 "nbformat": 4,
 "nbformat_minor": 4
}
